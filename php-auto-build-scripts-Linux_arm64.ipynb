{
  "nbformat": 4,
  "nbformat_minor": 0,
  "metadata": {
    "colab": {
      "provenance": [],
      "authorship_tag": "ABX9TyNg5IIdmzxbSbHaQBWrrM6P",
      "include_colab_link": true
    },
    "kernelspec": {
      "name": "python3",
      "display_name": "Python 3"
    },
    "language_info": {
      "name": "python"
    }
  },
  "cells": [
    {
      "cell_type": "markdown",
      "metadata": {
        "id": "view-in-github",
        "colab_type": "text"
      },
      "source": [
        "<a href=\"https://colab.research.google.com/github/TukangM/php-build-scripts-auto/blob/stable/php-auto-build-scripts-Linux_arm64.ipynb\" target=\"_parent\"><img src=\"https://colab.research.google.com/assets/colab-badge.svg\" alt=\"Open In Colab\"/></a>"
      ]
    },
    {
      "cell_type": "markdown",
      "source": [
        "# php-auto-build-scripts\n",
        "Hi there this script will make php8 for Linux_arm64"
      ],
      "metadata": {
        "id": "X-jgnETW0UP_"
      }
    },
    {
      "cell_type": "code",
      "source": [
        "## Update repo and install dependencies\n",
        "!sudo apt update\n",
        "!sudo apt install make autoconf automake libtool m4 wget gzip bzip2 bison g++ git cmake pkg-config re2c libtool-bin zip unzip"
      ],
      "metadata": {
        "id": "qbZhqVkg0Xvn",
        "outputId": "5ce3fa66-8493-4e0c-b4db-5d00837c16d2",
        "colab": {
          "base_uri": "https://localhost:8080/"
        }
      },
      "execution_count": 7,
      "outputs": [
        {
          "output_type": "stream",
          "name": "stdout",
          "text": [
            "\u001b[33m\r0% [Working]\u001b[0m\r            \rHit:1 http://archive.ubuntu.com/ubuntu bionic InRelease\n",
            "\u001b[33m\r0% [Waiting for headers] [Connecting to security.ubuntu.com (185.125.190.36)] [\u001b[0m\u001b[33m\r0% [1 InRelease gpgv 242 kB] [Waiting for headers] [Waiting for headers] [Waiti\u001b[0m\r                                                                               \rHit:2 https://cloud.r-project.org/bin/linux/ubuntu bionic-cran40/ InRelease\n",
            "\u001b[33m\r0% [1 InRelease gpgv 242 kB] [Waiting for headers] [Waiting for headers] [Waiti\u001b[0m\r                                                                               \rHit:3 http://archive.ubuntu.com/ubuntu bionic-updates InRelease\n",
            "\u001b[33m\r0% [1 InRelease gpgv 242 kB] [Waiting for headers] [Waiting for headers] [Waiti\u001b[0m\r                                                                               \rHit:4 http://archive.ubuntu.com/ubuntu bionic-backports InRelease\n",
            "\u001b[33m\r0% [1 InRelease gpgv 242 kB] [Waiting for headers] [Waiting for headers] [Waiti\u001b[0m\r                                                                               \rIgn:5 https://developer.download.nvidia.com/compute/machine-learning/repos/ubuntu1804/x86_64  InRelease\n",
            "\u001b[33m\r0% [1 InRelease gpgv 242 kB] [Waiting for headers] [Waiting for headers] [Waiti\u001b[0m\r                                                                               \rHit:6 http://security.ubuntu.com/ubuntu bionic-security InRelease\n",
            "\u001b[33m\r                                                                               \r0% [1 InRelease gpgv 242 kB] [Waiting for headers] [Waiting for headers]\u001b[0m\r                                                                        \rHit:7 https://developer.download.nvidia.com/compute/cuda/repos/ubuntu1804/x86_64  InRelease\n",
            "Hit:8 http://ppa.launchpad.net/c2d4u.team/c2d4u4.0+/ubuntu bionic InRelease\n",
            "Hit:9 https://developer.download.nvidia.com/compute/machine-learning/repos/ubuntu1804/x86_64  Release\n",
            "Hit:10 http://ppa.launchpad.net/cran/libgit2/ubuntu bionic InRelease\n",
            "Hit:11 http://ppa.launchpad.net/deadsnakes/ppa/ubuntu bionic InRelease\n",
            "Hit:12 http://ppa.launchpad.net/graphics-drivers/ppa/ubuntu bionic InRelease\n",
            "Reading package lists... Done\n",
            "Building dependency tree       \n",
            "Reading state information... Done\n",
            "34 packages can be upgraded. Run 'apt list --upgradable' to see them.\n",
            "Reading package lists... Done\n",
            "Building dependency tree       \n",
            "Reading state information... Done\n",
            "autoconf is already the newest version (2.69-11).\n",
            "automake is already the newest version (1:1.15.1-3ubuntu2).\n",
            "bison is already the newest version (2:3.0.4.dfsg-1build1).\n",
            "libtool is already the newest version (2.4.6-2).\n",
            "libtool-bin is already the newest version (2.4.6-2).\n",
            "m4 is already the newest version (1.4.18-1).\n",
            "make is already the newest version (4.1-9.1ubuntu1).\n",
            "pkg-config is already the newest version (0.29.1-0ubuntu2).\n",
            "re2c is already the newest version (1.0.1-1).\n",
            "zip is already the newest version (3.0-11build1).\n",
            "bzip2 is already the newest version (1.0.6-8.1ubuntu0.2).\n",
            "cmake is already the newest version (3.10.2-1ubuntu2.18.04.2).\n",
            "g++ is already the newest version (4:7.4.0-1ubuntu2.3).\n",
            "git is already the newest version (1:2.17.1-1ubuntu0.13).\n",
            "gzip is already the newest version (1.6-5ubuntu1.2).\n",
            "unzip is already the newest version (6.0-21ubuntu1.2).\n",
            "wget is already the newest version (1.19.4-1ubuntu2.2).\n",
            "The following package was automatically installed and is no longer required:\n",
            "  libnvidia-common-460\n",
            "Use 'sudo apt autoremove' to remove it.\n",
            "0 upgraded, 0 newly installed, 0 to remove and 34 not upgraded.\n"
          ]
        }
      ]
    },
    {
      "cell_type": "markdown",
      "source": [],
      "metadata": {
        "id": "5VGN3FQN5GVK"
      }
    },
    {
      "cell_type": "code",
      "source": [
        "#cloning compiler musl-cross-make\n",
        "!git clone https://github.com/TukangM/musl-cross-make\n",
        "%cd musl-cross-make"
      ],
      "metadata": {
        "id": "5u66jSWn7Ig4",
        "outputId": "3a6fc17b-959c-4e4f-e6b6-71a9c2f1696a",
        "colab": {
          "base_uri": "https://localhost:8080/"
        }
      },
      "execution_count": 4,
      "outputs": [
        {
          "output_type": "stream",
          "name": "stdout",
          "text": [
            "Cloning into 'musl-cross-make'...\n",
            "remote: Enumerating objects: 1164, done.\u001b[K\n",
            "remote: Counting objects: 100% (50/50), done.\u001b[K\n",
            "remote: Compressing objects: 100% (33/33), done.\u001b[K\n",
            "remote: Total 1164 (delta 23), reused 26 (delta 17), pack-reused 1114\u001b[K\n",
            "Receiving objects: 100% (1164/1164), 311.75 KiB | 8.42 MiB/s, done.\n",
            "Resolving deltas: 100% (623/623), done.\n",
            "/content/musl-cross-make\n"
          ]
        }
      ]
    },
    {
      "cell_type": "code",
      "source": [
        "#compiling musl-cross-make for php-build-scripts-auto\n",
        "!make install"
      ],
      "metadata": {
        "id": "Nkj7K7fQ7Yh2"
      },
      "execution_count": null,
      "outputs": []
    },
    {
      "cell_type": "code",
      "source": [
        "%cd ..\n",
        "#clone repo from TukangM/php-build-scripts-auto (also can use from pmmp repo https://github.com/pmmp/php-build-scripts)\n",
        "!git clone https://github.com/TukangM/php-build-scripts-auto\n",
        "#%cd php-build-scripts #!! remove hashtag if you used pmmp repo!!\n",
        "%cd php-build-scripts-auto"
      ],
      "metadata": {
        "id": "vqyq5zd68vNC",
        "outputId": "205a56a4-5e52-45cc-9578-ddbb5bb226d2",
        "colab": {
          "base_uri": "https://localhost:8080/"
        }
      },
      "execution_count": 16,
      "outputs": [
        {
          "output_type": "stream",
          "name": "stdout",
          "text": [
            "/\n",
            "fatal: destination path 'php-build-scripts-auto' already exists and is not an empty directory.\n",
            "/php-build-scripts-auto\n"
          ]
        }
      ]
    },
    {
      "cell_type": "code",
      "source": [
        "#compile php8 and wait\n",
        "!./compile.sh -t android-aarch64 -x -f"
      ],
      "metadata": {
        "id": "8BVKC6hh9tad",
        "outputId": "a87bd479-9b19-4d9b-ad0a-02bf8354cac5",
        "colab": {
          "base_uri": "https://localhost:8080/"
        }
      },
      "execution_count": 19,
      "outputs": [
        {
          "output_type": "stream",
          "name": "stdout",
          "text": [
            "[PocketMine] PHP compiler for Linux, MacOS and Android\n",
            "[INFO] Checking dependencies\n",
            "[opt] Set target to android-aarch64\n",
            "[opt] Doing cross-compile\n",
            "[opt] Enabling abusive optimizations...\n",
            "[INFO] Cross-compiling for Android ARMv8 (aarch64)\n",
            "[warning] OPcache cannot be used on static builds; this may have a negative effect on performance\n",
            "[warning] Xdebug cannot be built in static mode\n",
            "[ERROR] Please install \"aarch64-linux-musl-gcc\"\n"
          ]
        }
      ]
    },
    {
      "cell_type": "code",
      "source": [
        "%cd php-build-scripts-auto\n",
        "!ls\n",
        "!zip -r php-compiled-for-Linux_arm64.zip bin/"
      ],
      "metadata": {
        "id": "7VXHPf198A5n",
        "outputId": "db9e3b1f-b67e-42c3-f5a5-de2ac944d604",
        "colab": {
          "base_uri": "https://localhost:8080/"
        }
      },
      "execution_count": 30,
      "outputs": [
        {
          "output_type": "stream",
          "name": "stdout",
          "text": [
            "/content/php-build-scripts-auto\n",
            "bin\t    php-auto-build-scripts.ipynb  tests\n",
            "compile.sh  README.md\t\t\t  windows-compile-vs.bat\n",
            "  adding: bin/ (stored 0%)\n",
            "  adding: bin/dvds (stored 0%)\n",
            "  adding: bin/.ipynb_checkpoints/ (stored 0%)\n"
          ]
        }
      ]
    },
    {
      "cell_type": "code",
      "source": [
        "#Download the result\n",
        "from google.colab import files\n",
        "files.download('php-compiled-for-Linux_arm64.zip') "
      ],
      "metadata": {
        "id": "i5KBhkos77nh",
        "outputId": "5ea4c49e-6350-4f33-b29d-109bea561954",
        "colab": {
          "base_uri": "https://localhost:8080/",
          "height": 17
        }
      },
      "execution_count": 31,
      "outputs": [
        {
          "output_type": "display_data",
          "data": {
            "text/plain": [
              "<IPython.core.display.Javascript object>"
            ],
            "application/javascript": [
              "\n",
              "    async function download(id, filename, size) {\n",
              "      if (!google.colab.kernel.accessAllowed) {\n",
              "        return;\n",
              "      }\n",
              "      const div = document.createElement('div');\n",
              "      const label = document.createElement('label');\n",
              "      label.textContent = `Downloading \"${filename}\": `;\n",
              "      div.appendChild(label);\n",
              "      const progress = document.createElement('progress');\n",
              "      progress.max = size;\n",
              "      div.appendChild(progress);\n",
              "      document.body.appendChild(div);\n",
              "\n",
              "      const buffers = [];\n",
              "      let downloaded = 0;\n",
              "\n",
              "      const channel = await google.colab.kernel.comms.open(id);\n",
              "      // Send a message to notify the kernel that we're ready.\n",
              "      channel.send({})\n",
              "\n",
              "      for await (const message of channel.messages) {\n",
              "        // Send a message to notify the kernel that we're ready.\n",
              "        channel.send({})\n",
              "        if (message.buffers) {\n",
              "          for (const buffer of message.buffers) {\n",
              "            buffers.push(buffer);\n",
              "            downloaded += buffer.byteLength;\n",
              "            progress.value = downloaded;\n",
              "          }\n",
              "        }\n",
              "      }\n",
              "      const blob = new Blob(buffers, {type: 'application/binary'});\n",
              "      const a = document.createElement('a');\n",
              "      a.href = window.URL.createObjectURL(blob);\n",
              "      a.download = filename;\n",
              "      div.appendChild(a);\n",
              "      a.click();\n",
              "      div.remove();\n",
              "    }\n",
              "  "
            ]
          },
          "metadata": {}
        },
        {
          "output_type": "display_data",
          "data": {
            "text/plain": [
              "<IPython.core.display.Javascript object>"
            ],
            "application/javascript": [
              "download(\"download_dd93130e-82a1-4adf-8b45-28bf7e26ddbb\", \"php-compiled-for-Linux_arm64.zip\", 476)"
            ]
          },
          "metadata": {}
        }
      ]
    },
    {
      "cell_type": "markdown",
      "source": [
        "#Voila!!\n",
        "you builded php8 for arm64!!"
      ],
      "metadata": {
        "id": "Iy9UVKMU_1cC"
      }
    }
  ]
}